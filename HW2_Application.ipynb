{
  "nbformat": 4,
  "nbformat_minor": 0,
  "metadata": {
    "colab": {
      "provenance": []
    },
    "kernelspec": {
      "name": "python3",
      "display_name": "Python 3"
    },
    "language_info": {
      "name": "python"
    },
    "widgets": {
      "application/vnd.jupyter.widget-state+json": {
        "b5efead4d0bf4163ba04c2f19a599aef": {
          "model_module": "@jupyter-widgets/controls",
          "model_name": "FileUploadModel",
          "model_module_version": "1.5.0",
          "state": {
            "_counter": 1,
            "_dom_classes": [],
            "_model_module": "@jupyter-widgets/controls",
            "_model_module_version": "1.5.0",
            "_model_name": "FileUploadModel",
            "_view_count": null,
            "_view_module": "@jupyter-widgets/controls",
            "_view_module_version": "1.5.0",
            "_view_name": "FileUploadView",
            "accept": "",
            "button_style": "",
            "data": [
              null
            ],
            "description": "Upload",
            "description_tooltip": null,
            "disabled": false,
            "error": "",
            "icon": "upload",
            "layout": "IPY_MODEL_50c276d342f54f1e905f9b9cbf9ea777",
            "metadata": [
              {
                "name": "2010-kodiak-bear-1.jpg",
                "type": "image/jpeg",
                "size": 216772,
                "lastModified": 1726593546008
              }
            ],
            "multiple": false,
            "style": "IPY_MODEL_3a593a0e2e2c43ca8157a2478826e196"
          }
        },
        "50c276d342f54f1e905f9b9cbf9ea777": {
          "model_module": "@jupyter-widgets/base",
          "model_name": "LayoutModel",
          "model_module_version": "1.2.0",
          "state": {
            "_model_module": "@jupyter-widgets/base",
            "_model_module_version": "1.2.0",
            "_model_name": "LayoutModel",
            "_view_count": null,
            "_view_module": "@jupyter-widgets/base",
            "_view_module_version": "1.2.0",
            "_view_name": "LayoutView",
            "align_content": null,
            "align_items": null,
            "align_self": null,
            "border": null,
            "bottom": null,
            "display": null,
            "flex": null,
            "flex_flow": null,
            "grid_area": null,
            "grid_auto_columns": null,
            "grid_auto_flow": null,
            "grid_auto_rows": null,
            "grid_column": null,
            "grid_gap": null,
            "grid_row": null,
            "grid_template_areas": null,
            "grid_template_columns": null,
            "grid_template_rows": null,
            "height": null,
            "justify_content": null,
            "justify_items": null,
            "left": null,
            "margin": null,
            "max_height": null,
            "max_width": null,
            "min_height": null,
            "min_width": null,
            "object_fit": null,
            "object_position": null,
            "order": null,
            "overflow": null,
            "overflow_x": null,
            "overflow_y": null,
            "padding": null,
            "right": null,
            "top": null,
            "visibility": null,
            "width": null
          }
        },
        "3a593a0e2e2c43ca8157a2478826e196": {
          "model_module": "@jupyter-widgets/controls",
          "model_name": "ButtonStyleModel",
          "model_module_version": "1.5.0",
          "state": {
            "_model_module": "@jupyter-widgets/controls",
            "_model_module_version": "1.5.0",
            "_model_name": "ButtonStyleModel",
            "_view_count": null,
            "_view_module": "@jupyter-widgets/base",
            "_view_module_version": "1.2.0",
            "_view_name": "StyleView",
            "button_color": null,
            "font_weight": ""
          }
        },
        "a4afc3ec340d40cc9a823e20b17e2741": {
          "model_module": "@jupyter-widgets/output",
          "model_name": "OutputModel",
          "model_module_version": "1.0.0",
          "state": {
            "_dom_classes": [],
            "_model_module": "@jupyter-widgets/output",
            "_model_module_version": "1.0.0",
            "_model_name": "OutputModel",
            "_view_count": null,
            "_view_module": "@jupyter-widgets/output",
            "_view_module_version": "1.0.0",
            "_view_name": "OutputView",
            "layout": "IPY_MODEL_d1fb882cb73244af9119373f5afd713c",
            "msg_id": "",
            "outputs": [
              {
                "output_type": "display_data",
                "data": {
                  "text/plain": "<PIL.Image.Image image mode=RGB size=128x85>",
                  "image/png": "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\n"
                },
                "metadata": {}
              }
            ]
          }
        },
        "d1fb882cb73244af9119373f5afd713c": {
          "model_module": "@jupyter-widgets/base",
          "model_name": "LayoutModel",
          "model_module_version": "1.2.0",
          "state": {
            "_model_module": "@jupyter-widgets/base",
            "_model_module_version": "1.2.0",
            "_model_name": "LayoutModel",
            "_view_count": null,
            "_view_module": "@jupyter-widgets/base",
            "_view_module_version": "1.2.0",
            "_view_name": "LayoutView",
            "align_content": null,
            "align_items": null,
            "align_self": null,
            "border": null,
            "bottom": null,
            "display": null,
            "flex": null,
            "flex_flow": null,
            "grid_area": null,
            "grid_auto_columns": null,
            "grid_auto_flow": null,
            "grid_auto_rows": null,
            "grid_column": null,
            "grid_gap": null,
            "grid_row": null,
            "grid_template_areas": null,
            "grid_template_columns": null,
            "grid_template_rows": null,
            "height": null,
            "justify_content": null,
            "justify_items": null,
            "left": null,
            "margin": null,
            "max_height": null,
            "max_width": null,
            "min_height": null,
            "min_width": null,
            "object_fit": null,
            "object_position": null,
            "order": null,
            "overflow": null,
            "overflow_x": null,
            "overflow_y": null,
            "padding": null,
            "right": null,
            "top": null,
            "visibility": null,
            "width": null
          }
        },
        "113cc066527947bfb3803af96e7ccf85": {
          "model_module": "@jupyter-widgets/controls",
          "model_name": "LabelModel",
          "model_module_version": "1.5.0",
          "state": {
            "_dom_classes": [],
            "_model_module": "@jupyter-widgets/controls",
            "_model_module_version": "1.5.0",
            "_model_name": "LabelModel",
            "_view_count": null,
            "_view_module": "@jupyter-widgets/controls",
            "_view_module_version": "1.5.0",
            "_view_name": "LabelView",
            "description": "",
            "description_tooltip": null,
            "layout": "IPY_MODEL_8056651d85cb49029d7fa70218054459",
            "placeholder": "​",
            "style": "IPY_MODEL_8677c66e27c549f0ae95edd20e13b39d",
            "value": "Prediction: grizzly; Probability: 0.9950"
          }
        },
        "8056651d85cb49029d7fa70218054459": {
          "model_module": "@jupyter-widgets/base",
          "model_name": "LayoutModel",
          "model_module_version": "1.2.0",
          "state": {
            "_model_module": "@jupyter-widgets/base",
            "_model_module_version": "1.2.0",
            "_model_name": "LayoutModel",
            "_view_count": null,
            "_view_module": "@jupyter-widgets/base",
            "_view_module_version": "1.2.0",
            "_view_name": "LayoutView",
            "align_content": null,
            "align_items": null,
            "align_self": null,
            "border": null,
            "bottom": null,
            "display": null,
            "flex": null,
            "flex_flow": null,
            "grid_area": null,
            "grid_auto_columns": null,
            "grid_auto_flow": null,
            "grid_auto_rows": null,
            "grid_column": null,
            "grid_gap": null,
            "grid_row": null,
            "grid_template_areas": null,
            "grid_template_columns": null,
            "grid_template_rows": null,
            "height": null,
            "justify_content": null,
            "justify_items": null,
            "left": null,
            "margin": null,
            "max_height": null,
            "max_width": null,
            "min_height": null,
            "min_width": null,
            "object_fit": null,
            "object_position": null,
            "order": null,
            "overflow": null,
            "overflow_x": null,
            "overflow_y": null,
            "padding": null,
            "right": null,
            "top": null,
            "visibility": null,
            "width": null
          }
        },
        "8677c66e27c549f0ae95edd20e13b39d": {
          "model_module": "@jupyter-widgets/controls",
          "model_name": "DescriptionStyleModel",
          "model_module_version": "1.5.0",
          "state": {
            "_model_module": "@jupyter-widgets/controls",
            "_model_module_version": "1.5.0",
            "_model_name": "DescriptionStyleModel",
            "_view_count": null,
            "_view_module": "@jupyter-widgets/base",
            "_view_module_version": "1.2.0",
            "_view_name": "StyleView",
            "description_width": ""
          }
        },
        "fafaec34f5164201800e3b32d94e1e6e": {
          "model_module": "@jupyter-widgets/controls",
          "model_name": "ButtonModel",
          "model_module_version": "1.5.0",
          "state": {
            "_dom_classes": [],
            "_model_module": "@jupyter-widgets/controls",
            "_model_module_version": "1.5.0",
            "_model_name": "ButtonModel",
            "_view_count": null,
            "_view_module": "@jupyter-widgets/controls",
            "_view_module_version": "1.5.0",
            "_view_name": "ButtonView",
            "button_style": "",
            "description": "Classify",
            "disabled": false,
            "icon": "",
            "layout": "IPY_MODEL_be426fed70ad4cc89421989f2e08eaf7",
            "style": "IPY_MODEL_d0d411d922d74e798e1f4d4fea7ba5ac",
            "tooltip": ""
          }
        },
        "be426fed70ad4cc89421989f2e08eaf7": {
          "model_module": "@jupyter-widgets/base",
          "model_name": "LayoutModel",
          "model_module_version": "1.2.0",
          "state": {
            "_model_module": "@jupyter-widgets/base",
            "_model_module_version": "1.2.0",
            "_model_name": "LayoutModel",
            "_view_count": null,
            "_view_module": "@jupyter-widgets/base",
            "_view_module_version": "1.2.0",
            "_view_name": "LayoutView",
            "align_content": null,
            "align_items": null,
            "align_self": null,
            "border": null,
            "bottom": null,
            "display": null,
            "flex": null,
            "flex_flow": null,
            "grid_area": null,
            "grid_auto_columns": null,
            "grid_auto_flow": null,
            "grid_auto_rows": null,
            "grid_column": null,
            "grid_gap": null,
            "grid_row": null,
            "grid_template_areas": null,
            "grid_template_columns": null,
            "grid_template_rows": null,
            "height": null,
            "justify_content": null,
            "justify_items": null,
            "left": null,
            "margin": null,
            "max_height": null,
            "max_width": null,
            "min_height": null,
            "min_width": null,
            "object_fit": null,
            "object_position": null,
            "order": null,
            "overflow": null,
            "overflow_x": null,
            "overflow_y": null,
            "padding": null,
            "right": null,
            "top": null,
            "visibility": null,
            "width": null
          }
        },
        "d0d411d922d74e798e1f4d4fea7ba5ac": {
          "model_module": "@jupyter-widgets/controls",
          "model_name": "ButtonStyleModel",
          "model_module_version": "1.5.0",
          "state": {
            "_model_module": "@jupyter-widgets/controls",
            "_model_module_version": "1.5.0",
            "_model_name": "ButtonStyleModel",
            "_view_count": null,
            "_view_module": "@jupyter-widgets/base",
            "_view_module_version": "1.2.0",
            "_view_name": "StyleView",
            "button_color": null,
            "font_weight": ""
          }
        },
        "0dcfe4c589af409f9e84a4b43b6dc65e": {
          "model_module": "@jupyter-widgets/controls",
          "model_name": "VBoxModel",
          "model_module_version": "1.5.0",
          "state": {
            "_dom_classes": [],
            "_model_module": "@jupyter-widgets/controls",
            "_model_module_version": "1.5.0",
            "_model_name": "VBoxModel",
            "_view_count": null,
            "_view_module": "@jupyter-widgets/controls",
            "_view_module_version": "1.5.0",
            "_view_name": "VBoxView",
            "box_style": "",
            "children": [
              "IPY_MODEL_cda65c8e70a04e9ba988ab82202659da",
              "IPY_MODEL_2fdc629a12594a3490577f34b8216eba",
              "IPY_MODEL_fafaec34f5164201800e3b32d94e1e6e",
              "IPY_MODEL_a4afc3ec340d40cc9a823e20b17e2741",
              "IPY_MODEL_113cc066527947bfb3803af96e7ccf85"
            ],
            "layout": "IPY_MODEL_320ce6425b3841dc911859cb08bbd28b"
          }
        },
        "cda65c8e70a04e9ba988ab82202659da": {
          "model_module": "@jupyter-widgets/controls",
          "model_name": "LabelModel",
          "model_module_version": "1.5.0",
          "state": {
            "_dom_classes": [],
            "_model_module": "@jupyter-widgets/controls",
            "_model_module_version": "1.5.0",
            "_model_name": "LabelModel",
            "_view_count": null,
            "_view_module": "@jupyter-widgets/controls",
            "_view_module_version": "1.5.0",
            "_view_name": "LabelView",
            "description": "",
            "description_tooltip": null,
            "layout": "IPY_MODEL_bc2fc6a5237e400a8fd15351f23036e6",
            "placeholder": "​",
            "style": "IPY_MODEL_63bb332bc9964856a4a832d1e073c029",
            "value": "Select your bear!"
          }
        },
        "2fdc629a12594a3490577f34b8216eba": {
          "model_module": "@jupyter-widgets/controls",
          "model_name": "FileUploadModel",
          "model_module_version": "1.5.0",
          "state": {
            "_counter": 1,
            "_dom_classes": [],
            "_model_module": "@jupyter-widgets/controls",
            "_model_module_version": "1.5.0",
            "_model_name": "FileUploadModel",
            "_view_count": null,
            "_view_module": "@jupyter-widgets/controls",
            "_view_module_version": "1.5.0",
            "_view_name": "FileUploadView",
            "accept": "",
            "button_style": "",
            "data": [
              null
            ],
            "description": "Upload",
            "description_tooltip": null,
            "disabled": false,
            "error": "",
            "icon": "upload",
            "layout": "IPY_MODEL_d34d36d67bdc4a80868fb990a7a4ffa7",
            "metadata": [
              {
                "name": "2010-kodiak-bear-1.jpg",
                "type": "image/jpeg",
                "size": 216772,
                "lastModified": 1726593546008
              }
            ],
            "multiple": false,
            "style": "IPY_MODEL_fbc50485c08a458e9da58f2f7f3b8be6"
          }
        },
        "320ce6425b3841dc911859cb08bbd28b": {
          "model_module": "@jupyter-widgets/base",
          "model_name": "LayoutModel",
          "model_module_version": "1.2.0",
          "state": {
            "_model_module": "@jupyter-widgets/base",
            "_model_module_version": "1.2.0",
            "_model_name": "LayoutModel",
            "_view_count": null,
            "_view_module": "@jupyter-widgets/base",
            "_view_module_version": "1.2.0",
            "_view_name": "LayoutView",
            "align_content": null,
            "align_items": null,
            "align_self": null,
            "border": null,
            "bottom": null,
            "display": null,
            "flex": null,
            "flex_flow": null,
            "grid_area": null,
            "grid_auto_columns": null,
            "grid_auto_flow": null,
            "grid_auto_rows": null,
            "grid_column": null,
            "grid_gap": null,
            "grid_row": null,
            "grid_template_areas": null,
            "grid_template_columns": null,
            "grid_template_rows": null,
            "height": null,
            "justify_content": null,
            "justify_items": null,
            "left": null,
            "margin": null,
            "max_height": null,
            "max_width": null,
            "min_height": null,
            "min_width": null,
            "object_fit": null,
            "object_position": null,
            "order": null,
            "overflow": null,
            "overflow_x": null,
            "overflow_y": null,
            "padding": null,
            "right": null,
            "top": null,
            "visibility": null,
            "width": null
          }
        },
        "bc2fc6a5237e400a8fd15351f23036e6": {
          "model_module": "@jupyter-widgets/base",
          "model_name": "LayoutModel",
          "model_module_version": "1.2.0",
          "state": {
            "_model_module": "@jupyter-widgets/base",
            "_model_module_version": "1.2.0",
            "_model_name": "LayoutModel",
            "_view_count": null,
            "_view_module": "@jupyter-widgets/base",
            "_view_module_version": "1.2.0",
            "_view_name": "LayoutView",
            "align_content": null,
            "align_items": null,
            "align_self": null,
            "border": null,
            "bottom": null,
            "display": null,
            "flex": null,
            "flex_flow": null,
            "grid_area": null,
            "grid_auto_columns": null,
            "grid_auto_flow": null,
            "grid_auto_rows": null,
            "grid_column": null,
            "grid_gap": null,
            "grid_row": null,
            "grid_template_areas": null,
            "grid_template_columns": null,
            "grid_template_rows": null,
            "height": null,
            "justify_content": null,
            "justify_items": null,
            "left": null,
            "margin": null,
            "max_height": null,
            "max_width": null,
            "min_height": null,
            "min_width": null,
            "object_fit": null,
            "object_position": null,
            "order": null,
            "overflow": null,
            "overflow_x": null,
            "overflow_y": null,
            "padding": null,
            "right": null,
            "top": null,
            "visibility": null,
            "width": null
          }
        },
        "63bb332bc9964856a4a832d1e073c029": {
          "model_module": "@jupyter-widgets/controls",
          "model_name": "DescriptionStyleModel",
          "model_module_version": "1.5.0",
          "state": {
            "_model_module": "@jupyter-widgets/controls",
            "_model_module_version": "1.5.0",
            "_model_name": "DescriptionStyleModel",
            "_view_count": null,
            "_view_module": "@jupyter-widgets/base",
            "_view_module_version": "1.2.0",
            "_view_name": "StyleView",
            "description_width": ""
          }
        },
        "d34d36d67bdc4a80868fb990a7a4ffa7": {
          "model_module": "@jupyter-widgets/base",
          "model_name": "LayoutModel",
          "model_module_version": "1.2.0",
          "state": {
            "_model_module": "@jupyter-widgets/base",
            "_model_module_version": "1.2.0",
            "_model_name": "LayoutModel",
            "_view_count": null,
            "_view_module": "@jupyter-widgets/base",
            "_view_module_version": "1.2.0",
            "_view_name": "LayoutView",
            "align_content": null,
            "align_items": null,
            "align_self": null,
            "border": null,
            "bottom": null,
            "display": null,
            "flex": null,
            "flex_flow": null,
            "grid_area": null,
            "grid_auto_columns": null,
            "grid_auto_flow": null,
            "grid_auto_rows": null,
            "grid_column": null,
            "grid_gap": null,
            "grid_row": null,
            "grid_template_areas": null,
            "grid_template_columns": null,
            "grid_template_rows": null,
            "height": null,
            "justify_content": null,
            "justify_items": null,
            "left": null,
            "margin": null,
            "max_height": null,
            "max_width": null,
            "min_height": null,
            "min_width": null,
            "object_fit": null,
            "object_position": null,
            "order": null,
            "overflow": null,
            "overflow_x": null,
            "overflow_y": null,
            "padding": null,
            "right": null,
            "top": null,
            "visibility": null,
            "width": null
          }
        },
        "fbc50485c08a458e9da58f2f7f3b8be6": {
          "model_module": "@jupyter-widgets/controls",
          "model_name": "ButtonStyleModel",
          "model_module_version": "1.5.0",
          "state": {
            "_model_module": "@jupyter-widgets/controls",
            "_model_module_version": "1.5.0",
            "_model_name": "ButtonStyleModel",
            "_view_count": null,
            "_view_module": "@jupyter-widgets/base",
            "_view_module_version": "1.2.0",
            "_view_name": "StyleView",
            "button_color": null,
            "font_weight": ""
          }
        }
      }
    }
  },
  "cells": [
    {
      "cell_type": "markdown",
      "source": [
        "#Download Dependencies"
      ],
      "metadata": {
        "id": "csBhvFMoAo-k"
      }
    },
    {
      "cell_type": "code",
      "execution_count": 2,
      "metadata": {
        "colab": {
          "base_uri": "https://localhost:8080/"
        },
        "id": "GY4Xa9oh8yuo",
        "outputId": "0b879a84-51d7-4bd0-f604-0748ecd9c2eb"
      },
      "outputs": [
        {
          "output_type": "stream",
          "name": "stdout",
          "text": [
            "Mounted at /content/gdrive\n"
          ]
        }
      ],
      "source": [
        "! [ -e /content ] && pip install -Uqq fastbook\n",
        "import fastbook\n",
        "fastbook.setup_book()"
      ]
    },
    {
      "cell_type": "markdown",
      "source": [
        "#Import Libraries"
      ],
      "metadata": {
        "id": "lM1JTs2KAvUx"
      }
    },
    {
      "cell_type": "code",
      "source": [
        "from fastbook import *\n",
        "from fastai.vision.widgets import *"
      ],
      "metadata": {
        "id": "fH0Vr-vy8-z6"
      },
      "execution_count": 3,
      "outputs": []
    },
    {
      "cell_type": "markdown",
      "source": [
        "#Create Application"
      ],
      "metadata": {
        "id": "1UAQzvJvA3kX"
      }
    },
    {
      "cell_type": "code",
      "source": [
        "path = Path()\n",
        "path.ls(file_exts='.pkl')"
      ],
      "metadata": {
        "colab": {
          "base_uri": "https://localhost:8080/"
        },
        "id": "YzVV5PX39BVW",
        "outputId": "c8034c9f-197d-4289-af53-18873bb9d3eb"
      },
      "execution_count": 6,
      "outputs": [
        {
          "output_type": "execute_result",
          "data": {
            "text/plain": [
              "(#1) [Path('export.pkl')]"
            ]
          },
          "metadata": {},
          "execution_count": 6
        }
      ]
    },
    {
      "cell_type": "code",
      "source": [
        "learn_inf = load_learner(path/'export.pkl')"
      ],
      "metadata": {
        "id": "-jXYrvot9N0f"
      },
      "execution_count": 7,
      "outputs": []
    },
    {
      "cell_type": "code",
      "source": [
        "btn_upload = widgets.FileUpload()\n",
        "btn_upload"
      ],
      "metadata": {
        "colab": {
          "base_uri": "https://localhost:8080/",
          "height": 49,
          "referenced_widgets": [
            "b5efead4d0bf4163ba04c2f19a599aef",
            "50c276d342f54f1e905f9b9cbf9ea777",
            "3a593a0e2e2c43ca8157a2478826e196"
          ]
        },
        "id": "jUWSy6r79T2m",
        "outputId": "f5365c26-d433-4c36-d3a2-b4887222a0ca"
      },
      "execution_count": 8,
      "outputs": [
        {
          "output_type": "display_data",
          "data": {
            "text/plain": [
              "FileUpload(value={}, description='Upload')"
            ],
            "application/vnd.jupyter.widget-view+json": {
              "version_major": 2,
              "version_minor": 0,
              "model_id": "b5efead4d0bf4163ba04c2f19a599aef"
            }
          },
          "metadata": {}
        }
      ]
    },
    {
      "cell_type": "code",
      "source": [
        "img = PILImage.create(btn_upload.data[-1])"
      ],
      "metadata": {
        "id": "5ya_L8Fh9Y1K"
      },
      "execution_count": 9,
      "outputs": []
    },
    {
      "cell_type": "code",
      "source": [
        "out_pl = widgets.Output()\n",
        "out_pl.clear_output()\n",
        "with out_pl: display(img.to_thumb(128,128))\n",
        "out_pl"
      ],
      "metadata": {
        "colab": {
          "base_uri": "https://localhost:8080/",
          "height": 102,
          "referenced_widgets": [
            "a4afc3ec340d40cc9a823e20b17e2741",
            "d1fb882cb73244af9119373f5afd713c"
          ]
        },
        "id": "UdBawOTIAWd6",
        "outputId": "5b76a174-e4c0-4796-d2dd-4997da009b1d"
      },
      "execution_count": 19,
      "outputs": [
        {
          "output_type": "display_data",
          "data": {
            "text/plain": [
              "Output()"
            ],
            "application/vnd.jupyter.widget-view+json": {
              "version_major": 2,
              "version_minor": 0,
              "model_id": "a4afc3ec340d40cc9a823e20b17e2741"
            }
          },
          "metadata": {}
        }
      ]
    },
    {
      "cell_type": "code",
      "source": [
        "pred,pred_idx,probs = learn_inf.predict(img)"
      ],
      "metadata": {
        "colab": {
          "base_uri": "https://localhost:8080/",
          "height": 17
        },
        "id": "XecyHDMM_1fR",
        "outputId": "0ab54136-b8e8-420b-d773-305f7244a52d"
      },
      "execution_count": 11,
      "outputs": [
        {
          "output_type": "display_data",
          "data": {
            "text/plain": [
              "<IPython.core.display.HTML object>"
            ],
            "text/html": [
              "\n",
              "<style>\n",
              "    /* Turns off some styling */\n",
              "    progress {\n",
              "        /* gets rid of default border in Firefox and Opera. */\n",
              "        border: none;\n",
              "        /* Needs to be in here for Safari polyfill so background images work as expected. */\n",
              "        background-size: auto;\n",
              "    }\n",
              "    progress:not([value]), progress:not([value])::-webkit-progress-bar {\n",
              "        background: repeating-linear-gradient(45deg, #7e7e7e, #7e7e7e 10px, #5c5c5c 10px, #5c5c5c 20px);\n",
              "    }\n",
              "    .progress-bar-interrupted, .progress-bar-interrupted::-webkit-progress-bar {\n",
              "        background: #F44336;\n",
              "    }\n",
              "</style>\n"
            ]
          },
          "metadata": {}
        },
        {
          "output_type": "display_data",
          "data": {
            "text/plain": [
              "<IPython.core.display.HTML object>"
            ],
            "text/html": []
          },
          "metadata": {}
        }
      ]
    },
    {
      "cell_type": "code",
      "source": [
        "lbl_pred = widgets.Label()\n",
        "lbl_pred.value = f'Prediction: {pred}; Probability: {probs[pred_idx]:.04f}'\n",
        "lbl_pred"
      ],
      "metadata": {
        "colab": {
          "base_uri": "https://localhost:8080/",
          "height": 49,
          "referenced_widgets": [
            "113cc066527947bfb3803af96e7ccf85",
            "8056651d85cb49029d7fa70218054459",
            "8677c66e27c549f0ae95edd20e13b39d"
          ]
        },
        "id": "XGuR61Cb9fb6",
        "outputId": "dcb33c91-80f5-4a8b-a8c0-4a517819fc7e"
      },
      "execution_count": 12,
      "outputs": [
        {
          "output_type": "display_data",
          "data": {
            "text/plain": [
              "Label(value='Prediction: grizzly; Probability: 0.9950')"
            ],
            "application/vnd.jupyter.widget-view+json": {
              "version_major": 2,
              "version_minor": 0,
              "model_id": "113cc066527947bfb3803af96e7ccf85"
            }
          },
          "metadata": {}
        }
      ]
    },
    {
      "cell_type": "code",
      "source": [
        "btn_run = widgets.Button(description='Classify')\n",
        "btn_run"
      ],
      "metadata": {
        "colab": {
          "base_uri": "https://localhost:8080/",
          "height": 49,
          "referenced_widgets": [
            "fafaec34f5164201800e3b32d94e1e6e",
            "be426fed70ad4cc89421989f2e08eaf7",
            "d0d411d922d74e798e1f4d4fea7ba5ac"
          ]
        },
        "id": "DSiMB4iz_6fv",
        "outputId": "c811df2d-d184-4b63-d1a9-31e2c0745533"
      },
      "execution_count": 14,
      "outputs": [
        {
          "output_type": "display_data",
          "data": {
            "text/plain": [
              "Button(description='Classify', style=ButtonStyle())"
            ],
            "application/vnd.jupyter.widget-view+json": {
              "version_major": 2,
              "version_minor": 0,
              "model_id": "fafaec34f5164201800e3b32d94e1e6e"
            }
          },
          "metadata": {}
        }
      ]
    },
    {
      "cell_type": "code",
      "source": [
        "def on_click_classify(change):\n",
        "    img = PILImage.create(btn_upload.data[-1])\n",
        "    out_pl.clear_output()\n",
        "    with out_pl: display(img.to_thumb(128,128))\n",
        "    pred,pred_idx,probs = learn_inf.predict(img)\n",
        "    lbl_pred.value = f'Prediction: {pred}; Probability: {probs[pred_idx]:.04f}'\n",
        "\n",
        "btn_run.on_click(on_click_classify)"
      ],
      "metadata": {
        "id": "vaX80s_q9f0y"
      },
      "execution_count": 15,
      "outputs": []
    },
    {
      "cell_type": "code",
      "source": [
        "btn_upload = widgets.FileUpload()"
      ],
      "metadata": {
        "id": "Un11Uafj9jyk"
      },
      "execution_count": 16,
      "outputs": []
    },
    {
      "cell_type": "code",
      "source": [
        "VBox([widgets.Label('Select your bear!'),\n",
        "      btn_upload, btn_run, out_pl, lbl_pred])"
      ],
      "metadata": {
        "colab": {
          "base_uri": "https://localhost:8080/",
          "height": 230,
          "referenced_widgets": [
            "0dcfe4c589af409f9e84a4b43b6dc65e",
            "cda65c8e70a04e9ba988ab82202659da",
            "2fdc629a12594a3490577f34b8216eba",
            "fafaec34f5164201800e3b32d94e1e6e",
            "a4afc3ec340d40cc9a823e20b17e2741",
            "113cc066527947bfb3803af96e7ccf85",
            "320ce6425b3841dc911859cb08bbd28b",
            "bc2fc6a5237e400a8fd15351f23036e6",
            "63bb332bc9964856a4a832d1e073c029",
            "d34d36d67bdc4a80868fb990a7a4ffa7",
            "fbc50485c08a458e9da58f2f7f3b8be6",
            "be426fed70ad4cc89421989f2e08eaf7",
            "d0d411d922d74e798e1f4d4fea7ba5ac",
            "8056651d85cb49029d7fa70218054459",
            "8677c66e27c549f0ae95edd20e13b39d",
            "d1fb882cb73244af9119373f5afd713c"
          ]
        },
        "id": "Vwgm4V5Z9lI5",
        "outputId": "d5e30dbe-94fb-4d37-905c-c2df73d64e11"
      },
      "execution_count": 20,
      "outputs": [
        {
          "output_type": "display_data",
          "data": {
            "text/plain": [
              "VBox(children=(Label(value='Select your bear!'), FileUpload(value={}, description='Upload'), Button(descriptio…"
            ],
            "application/vnd.jupyter.widget-view+json": {
              "version_major": 2,
              "version_minor": 0,
              "model_id": "0dcfe4c589af409f9e84a4b43b6dc65e"
            }
          },
          "metadata": {}
        },
        {
          "output_type": "display_data",
          "data": {
            "text/plain": [
              "<IPython.core.display.HTML object>"
            ],
            "text/html": [
              "\n",
              "<style>\n",
              "    /* Turns off some styling */\n",
              "    progress {\n",
              "        /* gets rid of default border in Firefox and Opera. */\n",
              "        border: none;\n",
              "        /* Needs to be in here for Safari polyfill so background images work as expected. */\n",
              "        background-size: auto;\n",
              "    }\n",
              "    progress:not([value]), progress:not([value])::-webkit-progress-bar {\n",
              "        background: repeating-linear-gradient(45deg, #7e7e7e, #7e7e7e 10px, #5c5c5c 10px, #5c5c5c 20px);\n",
              "    }\n",
              "    .progress-bar-interrupted, .progress-bar-interrupted::-webkit-progress-bar {\n",
              "        background: #F44336;\n",
              "    }\n",
              "</style>\n"
            ]
          },
          "metadata": {}
        },
        {
          "output_type": "display_data",
          "data": {
            "text/plain": [
              "<IPython.core.display.HTML object>"
            ],
            "text/html": []
          },
          "metadata": {}
        }
      ]
    },
    {
      "cell_type": "markdown",
      "source": [
        "# Activate Application"
      ],
      "metadata": {
        "id": "haektFi_9qt2"
      }
    },
    {
      "cell_type": "code",
      "source": [
        "!pip install voila\n",
        "!jupyter serverextension enable --sys-prefix voila"
      ],
      "metadata": {
        "colab": {
          "base_uri": "https://localhost:8080/"
        },
        "id": "np5JKkSI9uVQ",
        "outputId": "5d5773d0-4777-48d2-e226-40e34d906331"
      },
      "execution_count": 18,
      "outputs": [
        {
          "output_type": "stream",
          "name": "stdout",
          "text": [
            "Collecting voila\n",
            "  Downloading voila-0.5.7-py3-none-any.whl.metadata (9.1 kB)\n",
            "Collecting jupyter-client<9,>=7.4.4 (from voila)\n",
            "  Downloading jupyter_client-8.6.3-py3-none-any.whl.metadata (8.3 kB)\n",
            "Requirement already satisfied: jupyter-core>=4.11.0 in /usr/local/lib/python3.10/dist-packages (from voila) (5.7.2)\n",
            "Collecting jupyter-server<3,>=2.0.0 (from voila)\n",
            "  Downloading jupyter_server-2.14.2-py3-none-any.whl.metadata (8.4 kB)\n",
            "Collecting jupyterlab-server<3,>=2.3.0 (from voila)\n",
            "  Downloading jupyterlab_server-2.27.3-py3-none-any.whl.metadata (5.9 kB)\n",
            "Requirement already satisfied: nbclient>=0.4.0 in /usr/local/lib/python3.10/dist-packages (from voila) (0.10.0)\n",
            "Requirement already satisfied: nbconvert<8,>=6.4.5 in /usr/local/lib/python3.10/dist-packages (from voila) (6.5.4)\n",
            "Requirement already satisfied: traitlets<6,>=5.0.3 in /usr/local/lib/python3.10/dist-packages (from voila) (5.7.1)\n",
            "Collecting websockets>=9.0 (from voila)\n",
            "  Downloading websockets-13.0.1-cp310-cp310-manylinux_2_5_x86_64.manylinux1_x86_64.manylinux_2_17_x86_64.manylinux2014_x86_64.whl.metadata (6.7 kB)\n",
            "Requirement already satisfied: python-dateutil>=2.8.2 in /usr/local/lib/python3.10/dist-packages (from jupyter-client<9,>=7.4.4->voila) (2.8.2)\n",
            "Requirement already satisfied: pyzmq>=23.0 in /usr/local/lib/python3.10/dist-packages (from jupyter-client<9,>=7.4.4->voila) (24.0.1)\n",
            "Requirement already satisfied: tornado>=6.2 in /usr/local/lib/python3.10/dist-packages (from jupyter-client<9,>=7.4.4->voila) (6.3.3)\n",
            "Requirement already satisfied: platformdirs>=2.5 in /usr/local/lib/python3.10/dist-packages (from jupyter-core>=4.11.0->voila) (4.3.2)\n",
            "Requirement already satisfied: anyio>=3.1.0 in /usr/local/lib/python3.10/dist-packages (from jupyter-server<3,>=2.0.0->voila) (3.7.1)\n",
            "Requirement already satisfied: argon2-cffi>=21.1 in /usr/local/lib/python3.10/dist-packages (from jupyter-server<3,>=2.0.0->voila) (23.1.0)\n",
            "Requirement already satisfied: jinja2>=3.0.3 in /usr/local/lib/python3.10/dist-packages (from jupyter-server<3,>=2.0.0->voila) (3.1.4)\n",
            "Collecting jupyter-events>=0.9.0 (from jupyter-server<3,>=2.0.0->voila)\n",
            "  Downloading jupyter_events-0.10.0-py3-none-any.whl.metadata (5.9 kB)\n",
            "Collecting jupyter-server-terminals>=0.4.4 (from jupyter-server<3,>=2.0.0->voila)\n",
            "  Downloading jupyter_server_terminals-0.5.3-py3-none-any.whl.metadata (5.6 kB)\n",
            "Requirement already satisfied: nbformat>=5.3.0 in /usr/local/lib/python3.10/dist-packages (from jupyter-server<3,>=2.0.0->voila) (5.10.4)\n",
            "Collecting overrides>=5.0 (from jupyter-server<3,>=2.0.0->voila)\n",
            "  Downloading overrides-7.7.0-py3-none-any.whl.metadata (5.8 kB)\n",
            "Requirement already satisfied: packaging>=22.0 in /usr/local/lib/python3.10/dist-packages (from jupyter-server<3,>=2.0.0->voila) (24.1)\n",
            "Requirement already satisfied: prometheus-client>=0.9 in /usr/local/lib/python3.10/dist-packages (from jupyter-server<3,>=2.0.0->voila) (0.20.0)\n",
            "Requirement already satisfied: send2trash>=1.8.2 in /usr/local/lib/python3.10/dist-packages (from jupyter-server<3,>=2.0.0->voila) (1.8.3)\n",
            "Requirement already satisfied: terminado>=0.8.3 in /usr/local/lib/python3.10/dist-packages (from jupyter-server<3,>=2.0.0->voila) (0.18.1)\n",
            "Requirement already satisfied: websocket-client>=1.7 in /usr/local/lib/python3.10/dist-packages (from jupyter-server<3,>=2.0.0->voila) (1.8.0)\n",
            "Requirement already satisfied: babel>=2.10 in /usr/local/lib/python3.10/dist-packages (from jupyterlab-server<3,>=2.3.0->voila) (2.16.0)\n",
            "Collecting json5>=0.9.0 (from jupyterlab-server<3,>=2.3.0->voila)\n",
            "  Downloading json5-0.9.25-py3-none-any.whl.metadata (30 kB)\n",
            "Requirement already satisfied: jsonschema>=4.18.0 in /usr/local/lib/python3.10/dist-packages (from jupyterlab-server<3,>=2.3.0->voila) (4.23.0)\n",
            "Requirement already satisfied: requests>=2.31 in /usr/local/lib/python3.10/dist-packages (from jupyterlab-server<3,>=2.3.0->voila) (2.32.3)\n",
            "Requirement already satisfied: lxml in /usr/local/lib/python3.10/dist-packages (from nbconvert<8,>=6.4.5->voila) (4.9.4)\n",
            "Requirement already satisfied: beautifulsoup4 in /usr/local/lib/python3.10/dist-packages (from nbconvert<8,>=6.4.5->voila) (4.12.3)\n",
            "Requirement already satisfied: bleach in /usr/local/lib/python3.10/dist-packages (from nbconvert<8,>=6.4.5->voila) (6.1.0)\n",
            "Requirement already satisfied: defusedxml in /usr/local/lib/python3.10/dist-packages (from nbconvert<8,>=6.4.5->voila) (0.7.1)\n",
            "Requirement already satisfied: entrypoints>=0.2.2 in /usr/local/lib/python3.10/dist-packages (from nbconvert<8,>=6.4.5->voila) (0.4)\n",
            "Requirement already satisfied: jupyterlab-pygments in /usr/local/lib/python3.10/dist-packages (from nbconvert<8,>=6.4.5->voila) (0.3.0)\n",
            "Requirement already satisfied: MarkupSafe>=2.0 in /usr/local/lib/python3.10/dist-packages (from nbconvert<8,>=6.4.5->voila) (2.1.5)\n",
            "Requirement already satisfied: mistune<2,>=0.8.1 in /usr/local/lib/python3.10/dist-packages (from nbconvert<8,>=6.4.5->voila) (0.8.4)\n",
            "Requirement already satisfied: pandocfilters>=1.4.1 in /usr/local/lib/python3.10/dist-packages (from nbconvert<8,>=6.4.5->voila) (1.5.1)\n",
            "Requirement already satisfied: pygments>=2.4.1 in /usr/local/lib/python3.10/dist-packages (from nbconvert<8,>=6.4.5->voila) (2.16.1)\n",
            "Requirement already satisfied: tinycss2 in /usr/local/lib/python3.10/dist-packages (from nbconvert<8,>=6.4.5->voila) (1.3.0)\n",
            "Requirement already satisfied: idna>=2.8 in /usr/local/lib/python3.10/dist-packages (from anyio>=3.1.0->jupyter-server<3,>=2.0.0->voila) (3.8)\n",
            "Requirement already satisfied: sniffio>=1.1 in /usr/local/lib/python3.10/dist-packages (from anyio>=3.1.0->jupyter-server<3,>=2.0.0->voila) (1.3.1)\n",
            "Requirement already satisfied: exceptiongroup in /usr/local/lib/python3.10/dist-packages (from anyio>=3.1.0->jupyter-server<3,>=2.0.0->voila) (1.2.2)\n",
            "Requirement already satisfied: argon2-cffi-bindings in /usr/local/lib/python3.10/dist-packages (from argon2-cffi>=21.1->jupyter-server<3,>=2.0.0->voila) (21.2.0)\n",
            "Requirement already satisfied: attrs>=22.2.0 in /usr/local/lib/python3.10/dist-packages (from jsonschema>=4.18.0->jupyterlab-server<3,>=2.3.0->voila) (24.2.0)\n",
            "Requirement already satisfied: jsonschema-specifications>=2023.03.6 in /usr/local/lib/python3.10/dist-packages (from jsonschema>=4.18.0->jupyterlab-server<3,>=2.3.0->voila) (2023.12.1)\n",
            "Requirement already satisfied: referencing>=0.28.4 in /usr/local/lib/python3.10/dist-packages (from jsonschema>=4.18.0->jupyterlab-server<3,>=2.3.0->voila) (0.35.1)\n",
            "Requirement already satisfied: rpds-py>=0.7.1 in /usr/local/lib/python3.10/dist-packages (from jsonschema>=4.18.0->jupyterlab-server<3,>=2.3.0->voila) (0.20.0)\n",
            "Collecting python-json-logger>=2.0.4 (from jupyter-events>=0.9.0->jupyter-server<3,>=2.0.0->voila)\n",
            "  Downloading python_json_logger-2.0.7-py3-none-any.whl.metadata (6.5 kB)\n",
            "Requirement already satisfied: pyyaml>=5.3 in /usr/local/lib/python3.10/dist-packages (from jupyter-events>=0.9.0->jupyter-server<3,>=2.0.0->voila) (6.0.2)\n",
            "Collecting rfc3339-validator (from jupyter-events>=0.9.0->jupyter-server<3,>=2.0.0->voila)\n",
            "  Downloading rfc3339_validator-0.1.4-py2.py3-none-any.whl.metadata (1.5 kB)\n",
            "Collecting rfc3986-validator>=0.1.1 (from jupyter-events>=0.9.0->jupyter-server<3,>=2.0.0->voila)\n",
            "  Downloading rfc3986_validator-0.1.1-py2.py3-none-any.whl.metadata (1.7 kB)\n",
            "Requirement already satisfied: fastjsonschema>=2.15 in /usr/local/lib/python3.10/dist-packages (from nbformat>=5.3.0->jupyter-server<3,>=2.0.0->voila) (2.20.0)\n",
            "Requirement already satisfied: six>=1.5 in /usr/local/lib/python3.10/dist-packages (from python-dateutil>=2.8.2->jupyter-client<9,>=7.4.4->voila) (1.16.0)\n",
            "Requirement already satisfied: charset-normalizer<4,>=2 in /usr/local/lib/python3.10/dist-packages (from requests>=2.31->jupyterlab-server<3,>=2.3.0->voila) (3.3.2)\n",
            "Requirement already satisfied: urllib3<3,>=1.21.1 in /usr/local/lib/python3.10/dist-packages (from requests>=2.31->jupyterlab-server<3,>=2.3.0->voila) (2.0.7)\n",
            "Requirement already satisfied: certifi>=2017.4.17 in /usr/local/lib/python3.10/dist-packages (from requests>=2.31->jupyterlab-server<3,>=2.3.0->voila) (2024.8.30)\n",
            "Requirement already satisfied: ptyprocess in /usr/local/lib/python3.10/dist-packages (from terminado>=0.8.3->jupyter-server<3,>=2.0.0->voila) (0.7.0)\n",
            "Requirement already satisfied: soupsieve>1.2 in /usr/local/lib/python3.10/dist-packages (from beautifulsoup4->nbconvert<8,>=6.4.5->voila) (2.6)\n",
            "Requirement already satisfied: webencodings in /usr/local/lib/python3.10/dist-packages (from bleach->nbconvert<8,>=6.4.5->voila) (0.5.1)\n",
            "Collecting fqdn (from jsonschema[format-nongpl]>=4.18.0->jupyter-events>=0.9.0->jupyter-server<3,>=2.0.0->voila)\n",
            "  Downloading fqdn-1.5.1-py3-none-any.whl.metadata (1.4 kB)\n",
            "Collecting isoduration (from jsonschema[format-nongpl]>=4.18.0->jupyter-events>=0.9.0->jupyter-server<3,>=2.0.0->voila)\n",
            "  Downloading isoduration-20.11.0-py3-none-any.whl.metadata (5.7 kB)\n",
            "Collecting jsonpointer>1.13 (from jsonschema[format-nongpl]>=4.18.0->jupyter-events>=0.9.0->jupyter-server<3,>=2.0.0->voila)\n",
            "  Downloading jsonpointer-3.0.0-py2.py3-none-any.whl.metadata (2.3 kB)\n",
            "Collecting uri-template (from jsonschema[format-nongpl]>=4.18.0->jupyter-events>=0.9.0->jupyter-server<3,>=2.0.0->voila)\n",
            "  Downloading uri_template-1.3.0-py3-none-any.whl.metadata (8.8 kB)\n",
            "Requirement already satisfied: webcolors>=24.6.0 in /usr/local/lib/python3.10/dist-packages (from jsonschema[format-nongpl]>=4.18.0->jupyter-events>=0.9.0->jupyter-server<3,>=2.0.0->voila) (24.8.0)\n",
            "Requirement already satisfied: cffi>=1.0.1 in /usr/local/lib/python3.10/dist-packages (from argon2-cffi-bindings->argon2-cffi>=21.1->jupyter-server<3,>=2.0.0->voila) (1.17.1)\n",
            "Requirement already satisfied: pycparser in /usr/local/lib/python3.10/dist-packages (from cffi>=1.0.1->argon2-cffi-bindings->argon2-cffi>=21.1->jupyter-server<3,>=2.0.0->voila) (2.22)\n",
            "Collecting arrow>=0.15.0 (from isoduration->jsonschema[format-nongpl]>=4.18.0->jupyter-events>=0.9.0->jupyter-server<3,>=2.0.0->voila)\n",
            "  Downloading arrow-1.3.0-py3-none-any.whl.metadata (7.5 kB)\n",
            "Collecting types-python-dateutil>=2.8.10 (from arrow>=0.15.0->isoduration->jsonschema[format-nongpl]>=4.18.0->jupyter-events>=0.9.0->jupyter-server<3,>=2.0.0->voila)\n",
            "  Downloading types_python_dateutil-2.9.0.20240906-py3-none-any.whl.metadata (1.9 kB)\n",
            "Downloading voila-0.5.7-py3-none-any.whl (3.9 MB)\n",
            "\u001b[2K   \u001b[90m━━━━━━━━━━━━━━━━━━━━━━━━━━━━━━━━━━━━━━━━\u001b[0m \u001b[32m3.9/3.9 MB\u001b[0m \u001b[31m35.9 MB/s\u001b[0m eta \u001b[36m0:00:00\u001b[0m\n",
            "\u001b[?25hDownloading jupyter_client-8.6.3-py3-none-any.whl (106 kB)\n",
            "\u001b[2K   \u001b[90m━━━━━━━━━━━━━━━━━━━━━━━━━━━━━━━━━━━━━━━━\u001b[0m \u001b[32m106.1/106.1 kB\u001b[0m \u001b[31m7.6 MB/s\u001b[0m eta \u001b[36m0:00:00\u001b[0m\n",
            "\u001b[?25hDownloading jupyter_server-2.14.2-py3-none-any.whl (383 kB)\n",
            "\u001b[2K   \u001b[90m━━━━━━━━━━━━━━━━━━━━━━━━━━━━━━━━━━━━━━━━\u001b[0m \u001b[32m383.6/383.6 kB\u001b[0m \u001b[31m22.5 MB/s\u001b[0m eta \u001b[36m0:00:00\u001b[0m\n",
            "\u001b[?25hDownloading jupyterlab_server-2.27.3-py3-none-any.whl (59 kB)\n",
            "\u001b[2K   \u001b[90m━━━━━━━━━━━━━━━━━━━━━━━━━━━━━━━━━━━━━━━━\u001b[0m \u001b[32m59.7/59.7 kB\u001b[0m \u001b[31m4.6 MB/s\u001b[0m eta \u001b[36m0:00:00\u001b[0m\n",
            "\u001b[?25hDownloading websockets-13.0.1-cp310-cp310-manylinux_2_5_x86_64.manylinux1_x86_64.manylinux_2_17_x86_64.manylinux2014_x86_64.whl (157 kB)\n",
            "\u001b[2K   \u001b[90m━━━━━━━━━━━━━━━━━━━━━━━━━━━━━━━━━━━━━━━━\u001b[0m \u001b[32m157.3/157.3 kB\u001b[0m \u001b[31m10.3 MB/s\u001b[0m eta \u001b[36m0:00:00\u001b[0m\n",
            "\u001b[?25hDownloading json5-0.9.25-py3-none-any.whl (30 kB)\n",
            "Downloading jupyter_events-0.10.0-py3-none-any.whl (18 kB)\n",
            "Downloading jupyter_server_terminals-0.5.3-py3-none-any.whl (13 kB)\n",
            "Downloading overrides-7.7.0-py3-none-any.whl (17 kB)\n",
            "Downloading python_json_logger-2.0.7-py3-none-any.whl (8.1 kB)\n",
            "Downloading rfc3986_validator-0.1.1-py2.py3-none-any.whl (4.2 kB)\n",
            "Downloading rfc3339_validator-0.1.4-py2.py3-none-any.whl (3.5 kB)\n",
            "Downloading jsonpointer-3.0.0-py2.py3-none-any.whl (7.6 kB)\n",
            "Downloading fqdn-1.5.1-py3-none-any.whl (9.1 kB)\n",
            "Downloading isoduration-20.11.0-py3-none-any.whl (11 kB)\n",
            "Downloading uri_template-1.3.0-py3-none-any.whl (11 kB)\n",
            "Downloading arrow-1.3.0-py3-none-any.whl (66 kB)\n",
            "\u001b[2K   \u001b[90m━━━━━━━━━━━━━━━━━━━━━━━━━━━━━━━━━━━━━━━━\u001b[0m \u001b[32m66.4/66.4 kB\u001b[0m \u001b[31m4.6 MB/s\u001b[0m eta \u001b[36m0:00:00\u001b[0m\n",
            "\u001b[?25hDownloading types_python_dateutil-2.9.0.20240906-py3-none-any.whl (9.7 kB)\n",
            "Installing collected packages: websockets, uri-template, types-python-dateutil, rfc3986-validator, rfc3339-validator, python-json-logger, overrides, jsonpointer, json5, fqdn, jupyter-server-terminals, jupyter-client, arrow, isoduration, jupyter-events, jupyter-server, jupyterlab-server, voila\n",
            "  Attempting uninstall: jupyter-client\n",
            "    Found existing installation: jupyter-client 6.1.12\n",
            "    Uninstalling jupyter-client-6.1.12:\n",
            "      Successfully uninstalled jupyter-client-6.1.12\n",
            "  Attempting uninstall: jupyter-server\n",
            "    Found existing installation: jupyter-server 1.24.0\n",
            "    Uninstalling jupyter-server-1.24.0:\n",
            "      Successfully uninstalled jupyter-server-1.24.0\n",
            "\u001b[31mERROR: pip's dependency resolver does not currently take into account all the packages that are installed. This behaviour is the source of the following dependency conflicts.\n",
            "notebook 6.5.5 requires jupyter-client<8,>=5.3.4, but you have jupyter-client 8.6.3 which is incompatible.\u001b[0m\u001b[31m\n",
            "\u001b[0mSuccessfully installed arrow-1.3.0 fqdn-1.5.1 isoduration-20.11.0 json5-0.9.25 jsonpointer-3.0.0 jupyter-client-8.6.3 jupyter-events-0.10.0 jupyter-server-2.14.2 jupyter-server-terminals-0.5.3 jupyterlab-server-2.27.3 overrides-7.7.0 python-json-logger-2.0.7 rfc3339-validator-0.1.4 rfc3986-validator-0.1.1 types-python-dateutil-2.9.0.20240906 uri-template-1.3.0 voila-0.5.7 websockets-13.0.1\n",
            "Enabling: voila\n",
            "- Writing config: /usr/etc/jupyter\n",
            "    - Validating...\n",
            "      voila 0.5.7 \u001b[32mOK\u001b[0m\n"
          ]
        }
      ]
    }
  ]
}